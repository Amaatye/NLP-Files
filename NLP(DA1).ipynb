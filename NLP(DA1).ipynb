{
 "cells": [
  {
   "cell_type": "code",
   "execution_count": 1,
   "metadata": {},
   "outputs": [],
   "source": [
    "import tensorflow as tf\n",
    "import tensorflow_hub as hub\n",
    "import numpy as np\n",
    "import os, sys\n",
    "from sklearn.metrics.pairwise import cosine_similarity"
   ]
  },
  {
   "cell_type": "code",
   "execution_count": 8,
   "metadata": {},
   "outputs": [
    {
     "ename": "RuntimeError",
     "evalue": "variable_scope module_3/ was unused but the corresponding name_scope was already taken.",
     "output_type": "error",
     "traceback": [
      "\u001b[1;31m---------------------------------------------------------------------------\u001b[0m",
      "\u001b[1;31mRuntimeError\u001b[0m                              Traceback (most recent call last)",
      "\u001b[1;32m<ipython-input-8-6b8a375b7573>\u001b[0m in \u001b[0;36m<module>\u001b[1;34m\u001b[0m\n\u001b[0;32m     17\u001b[0m \u001b[1;33m\u001b[0m\u001b[0m\n\u001b[0;32m     18\u001b[0m \u001b[1;31m# Import the Universal Sentence Encoder's TF Hub module\u001b[0m\u001b[1;33m\u001b[0m\u001b[1;33m\u001b[0m\u001b[1;33m\u001b[0m\u001b[0m\n\u001b[1;32m---> 19\u001b[1;33m \u001b[0membed\u001b[0m \u001b[1;33m=\u001b[0m \u001b[0mhub\u001b[0m\u001b[1;33m.\u001b[0m\u001b[0mModule\u001b[0m\u001b[1;33m(\u001b[0m\u001b[0mmodule_url\u001b[0m\u001b[1;33m)\u001b[0m\u001b[1;33m\u001b[0m\u001b[1;33m\u001b[0m\u001b[0m\n\u001b[0m\u001b[0;32m     20\u001b[0m \u001b[1;33m\u001b[0m\u001b[0m\n\u001b[0;32m     21\u001b[0m \u001b[1;31m# Reduce logging output.\u001b[0m\u001b[1;33m\u001b[0m\u001b[1;33m\u001b[0m\u001b[1;33m\u001b[0m\u001b[0m\n",
      "\u001b[1;32mD:\\Softwares2\\Anaconda\\lib\\site-packages\\tensorflow_hub\\module.py\u001b[0m in \u001b[0;36m__init__\u001b[1;34m(self, spec, trainable, name, tags)\u001b[0m\n\u001b[0;32m    165\u001b[0m       \u001b[1;32mraise\u001b[0m \u001b[0mValueError\u001b[0m\u001b[1;33m(\u001b[0m\u001b[1;34m\"No such graph variant: tags=%r\"\u001b[0m \u001b[1;33m%\u001b[0m \u001b[0mtags\u001b[0m\u001b[1;33m)\u001b[0m\u001b[1;33m\u001b[0m\u001b[1;33m\u001b[0m\u001b[0m\n\u001b[0;32m    166\u001b[0m \u001b[1;33m\u001b[0m\u001b[0m\n\u001b[1;32m--> 167\u001b[1;33m     \u001b[0mabs_state_scope\u001b[0m \u001b[1;33m=\u001b[0m \u001b[0m_try_get_state_scope\u001b[0m\u001b[1;33m(\u001b[0m\u001b[0mname\u001b[0m\u001b[1;33m,\u001b[0m \u001b[0mmark_name_scope_used\u001b[0m\u001b[1;33m=\u001b[0m\u001b[1;32mFalse\u001b[0m\u001b[1;33m)\u001b[0m\u001b[1;33m\u001b[0m\u001b[1;33m\u001b[0m\u001b[0m\n\u001b[0m\u001b[0;32m    168\u001b[0m     \u001b[0mself\u001b[0m\u001b[1;33m.\u001b[0m\u001b[0m_name\u001b[0m \u001b[1;33m=\u001b[0m \u001b[0mabs_state_scope\u001b[0m\u001b[1;33m.\u001b[0m\u001b[0msplit\u001b[0m\u001b[1;33m(\u001b[0m\u001b[1;34m\"/\"\u001b[0m\u001b[1;33m)\u001b[0m\u001b[1;33m[\u001b[0m\u001b[1;33m-\u001b[0m\u001b[1;36m2\u001b[0m\u001b[1;33m]\u001b[0m\u001b[1;33m\u001b[0m\u001b[1;33m\u001b[0m\u001b[0m\n\u001b[0;32m    169\u001b[0m \u001b[1;33m\u001b[0m\u001b[0m\n",
      "\u001b[1;32mD:\\Softwares2\\Anaconda\\lib\\site-packages\\tensorflow_hub\\module.py\u001b[0m in \u001b[0;36m_try_get_state_scope\u001b[1;34m(name, mark_name_scope_used)\u001b[0m\n\u001b[0;32m    398\u001b[0m       raise RuntimeError(\n\u001b[0;32m    399\u001b[0m           \u001b[1;34m\"variable_scope %s was unused but the corresponding \"\u001b[0m\u001b[1;33m\u001b[0m\u001b[1;33m\u001b[0m\u001b[0m\n\u001b[1;32m--> 400\u001b[1;33m           \"name_scope was already taken.\" % abs_state_scope)\n\u001b[0m\u001b[0;32m    401\u001b[0m   \u001b[1;32mreturn\u001b[0m \u001b[0mabs_state_scope\u001b[0m\u001b[1;33m\u001b[0m\u001b[1;33m\u001b[0m\u001b[0m\n\u001b[0;32m    402\u001b[0m \u001b[1;33m\u001b[0m\u001b[0m\n",
      "\u001b[1;31mRuntimeError\u001b[0m: variable_scope module_3/ was unused but the corresponding name_scope was already taken."
     ]
    }
   ],
   "source": [
    "def cos_sim(input_vectors):\n",
    "    similarity = cosine_similarity(input_vectors)\n",
    "    return similarity\n",
    "\n",
    "# get topN similar sentences\n",
    "def get_top_similar(sentence, sentence_list, similarity_matrix, topN):\n",
    "    # find the index of sentence in list\n",
    "    index = sentence_list.index(sentence)\n",
    "    # get the corresponding row in similarity matrix\n",
    "    similarity_row = np.array(similarity_matrix[index, :])\n",
    "    # get the indices of top similar\n",
    "    indices = similarity_row.argsort()[-topN:][::-1]\n",
    "    return [sentence_list[i] for i in indices]\n",
    "\n",
    "\n",
    "module_url = \"https://tfhub.dev/google/universal-sentence-encoder/2\" #@param [\"https://tfhub.dev/google/universal-sentence-encoder/2\", \"https://tfhub.dev/google/universal-sentence-encoder-large/3\"]\n",
    "\n",
    "# Import the Universal Sentence Encoder's TF Hub module\n",
    "embed = hub.Module(module_url)\n",
    "\n",
    "# Reduce logging output.\n",
    "tf.logging.set_verbosity(tf.logging.ERROR)\n",
    "\n",
    "sentences_list = [\n",
    "    # phone related\n",
    "    'My phone is slow',\n",
    "    'My phone is not good',\n",
    "    'I need to change my phone. It does not work well',\n",
    "    'How is your phone?',\n",
    "\n",
    "    # age related\n",
    "    'What is your age?',\n",
    "    'How old are you?',\n",
    "    'I am 10 years old',\n",
    "\n",
    "    # weather related\n",
    "    'It is raining today',\n",
    "    'Would it be sunny tomorrow?',\n",
    "    'The summers are here.'\n",
    "]\n",
    "\n",
    "with tf.Session() as session:\n",
    "\n",
    "  session.run([tf.global_variables_initializer(), tf.tables_initializer()])\n",
    "  sentences_embeddings = session.run(embed(sentences_list))\n",
    "\n",
    "similarity_matrix = cos_sim(np.array(sentences_embeddings))\n",
    "\n",
    "sentence = \"It is raining today\"\n",
    "top_similar = get_top_similar(sentence, sentences_list, similarity_matrix, 3)\n",
    "\n",
    "# printing the list using loop \n",
    "for x in range(len(top_similar)): \n",
    "    print(top_similar[x])"
   ]
  },
  {
   "cell_type": "code",
   "execution_count": null,
   "metadata": {},
   "outputs": [],
   "source": []
  },
  {
   "cell_type": "code",
   "execution_count": null,
   "metadata": {},
   "outputs": [],
   "source": []
  },
  {
   "cell_type": "code",
   "execution_count": null,
   "metadata": {},
   "outputs": [],
   "source": []
  },
  {
   "cell_type": "code",
   "execution_count": null,
   "metadata": {},
   "outputs": [],
   "source": []
  }
 ],
 "metadata": {
  "kernelspec": {
   "display_name": "Python 3",
   "language": "python",
   "name": "python3"
  },
  "language_info": {
   "codemirror_mode": {
    "name": "ipython",
    "version": 3
   },
   "file_extension": ".py",
   "mimetype": "text/x-python",
   "name": "python",
   "nbconvert_exporter": "python",
   "pygments_lexer": "ipython3",
   "version": "3.7.6"
  }
 },
 "nbformat": 4,
 "nbformat_minor": 4
}
